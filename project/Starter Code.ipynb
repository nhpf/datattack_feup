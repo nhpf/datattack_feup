{
 "cells": [
  {
   "cell_type": "markdown",
   "metadata": {
    "id": "Be5mB1sREtkH"
   },
   "source": [
    "# Exploratory Data Analysis\n",
    "In this section, we provide you a sample code to read the database file(s)."
   ]
  },
  {
   "cell_type": "code",
   "execution_count": null,
   "metadata": {
    "ExecuteTime": {
     "end_time": "2023-04-22T12:40:25.942339Z",
     "start_time": "2023-04-22T12:40:05.760151Z"
    },
    "colab": {
     "base_uri": "https://localhost:8080/"
    },
    "executionInfo": {
     "elapsed": 2317,
     "status": "ok",
     "timestamp": 1682157006100,
     "user": {
      "displayName": "Francisco Ribeiro",
      "userId": "11960040655366096740"
     },
     "user_tz": -60
    },
    "id": "BAcEe2mbxUm4",
    "outputId": "1e3710fe-9818-4d71-b377-82e3136b9bec"
   },
   "outputs": [],
   "source": [
    "# Imports\n",
    "import pandas as pd\n",
    "\n",
    "\n",
    "# Read the database .CSV\n",
    "ocorrencias = pd.read_csv(\n",
    "    'https://raw.githubusercontent.com/centraldedados/protecao_civil/master/data/anpc-2016.csv', \n",
    "    sep = ',', \n",
    "    on_bad_lines='skip'\n",
    ")\n",
    "\n",
    "# We replace the \",\" with \".\" to facilitate processing\n",
    "ocorrencias['Latitude'] = pd.to_numeric(\n",
    "    ocorrencias['Latitude'].str.replace(',', '.')\n",
    ")\n",
    "ocorrencias['Longitude'] = pd.to_numeric(\n",
    "    ocorrencias['Longitude'].str.replace(',', '.')\n",
    ")"
   ]
  },
  {
   "cell_type": "code",
   "execution_count": 2,
   "metadata": {
    "ExecuteTime": {
     "end_time": "2023-04-22T12:40:25.955335Z",
     "start_time": "2023-04-22T12:40:25.922196Z"
    },
    "colab": {
     "base_uri": "https://localhost:8080/"
    },
    "executionInfo": {
     "elapsed": 303,
     "status": "ok",
     "timestamp": 1682157006399,
     "user": {
      "displayName": "Francisco Ribeiro",
      "userId": "11960040655366096740"
     },
     "user_tz": -60
    },
    "id": "ToFv95PO20GG",
    "outputId": "72125d18-da0b-425c-bbf5-34b174a5e87f"
   },
   "outputs": [
    {
     "data": {
      "text/plain": [
       "(121187, 15)"
      ]
     },
     "execution_count": 2,
     "metadata": {},
     "output_type": "execute_result"
    }
   ],
   "source": [
    "# Check the size and shape of the database\n",
    "ocorrencias.shape"
   ]
  },
  {
   "cell_type": "code",
   "execution_count": 3,
   "metadata": {
    "ExecuteTime": {
     "end_time": "2023-04-22T12:40:25.955612Z",
     "start_time": "2023-04-22T12:40:25.922626Z"
    },
    "colab": {
     "base_uri": "https://localhost:8080/"
    },
    "executionInfo": {
     "elapsed": 22,
     "status": "ok",
     "timestamp": 1682157006400,
     "user": {
      "displayName": "Francisco Ribeiro",
      "userId": "11960040655366096740"
     },
     "user_tz": -60
    },
    "id": "EB2Ywnvr5_qW",
    "outputId": "2a07e40e-9e78-47e2-9044-8e3aae3f8a00"
   },
   "outputs": [
    {
     "data": {
      "text/plain": [
       "EstadoOcorrencia\n",
       "Encerrada                118169\n",
       "Falso Alarme               2406\n",
       "Despacho de 1º Alerta       198\n",
       "Falso Alerta                168\n",
       "Em Curso                    100\n",
       "Conclusão                    72\n",
       "Chegada ao TO                38\n",
       "Em Resolução                 18\n",
       "Despacho                     11\n",
       "2                             1\n",
       "Vigilância                    1\n",
       "Name: count, dtype: int64"
      ]
     },
     "execution_count": 3,
     "metadata": {},
     "output_type": "execute_result"
    }
   ],
   "source": [
    "# Count the values of the state(s) of the occurrence(s)\n",
    "ocorrencias['EstadoOcorrencia'].value_counts()"
   ]
  },
  {
   "cell_type": "code",
   "execution_count": 4,
   "metadata": {
    "ExecuteTime": {
     "end_time": "2023-04-22T12:40:25.955839Z",
     "start_time": "2023-04-22T12:40:25.925391Z"
    },
    "colab": {
     "base_uri": "https://localhost:8080/",
     "height": 468
    },
    "executionInfo": {
     "elapsed": 21,
     "status": "ok",
     "timestamp": 1682157006402,
     "user": {
      "displayName": "Francisco Ribeiro",
      "userId": "11960040655366096740"
     },
     "user_tz": -60
    },
    "id": "FMk4BLzZ3Ra9",
    "outputId": "100c207c-86fb-4225-e8b6-3858dc4c366e"
   },
   "outputs": [
    {
     "data": {
      "text/html": [
       "<div>\n",
       "<style scoped>\n",
       "    .dataframe tbody tr th:only-of-type {\n",
       "        vertical-align: middle;\n",
       "    }\n",
       "\n",
       "    .dataframe tbody tr th {\n",
       "        vertical-align: top;\n",
       "    }\n",
       "\n",
       "    .dataframe thead th {\n",
       "        text-align: right;\n",
       "    }\n",
       "</style>\n",
       "<table border=\"1\" class=\"dataframe\">\n",
       "  <thead>\n",
       "    <tr style=\"text-align: right;\">\n",
       "      <th></th>\n",
       "      <th>Numero</th>\n",
       "      <th>DataOcorrencia</th>\n",
       "      <th>DataFechoOperacional</th>\n",
       "      <th>Natureza</th>\n",
       "      <th>EstadoOcorrencia</th>\n",
       "      <th>Distrito</th>\n",
       "      <th>Concelho</th>\n",
       "      <th>Freguesia</th>\n",
       "      <th>Localidade</th>\n",
       "      <th>Latitude</th>\n",
       "      <th>Longitude</th>\n",
       "      <th>NumeroMeiosTerrestresEnvolvidos</th>\n",
       "      <th>NumeroOperacionaisTerrestresEnvolvidos</th>\n",
       "      <th>NumeroMeiosAereosEnvolvidos</th>\n",
       "      <th>NumeroOperacionaisAereosEnvolvidos</th>\n",
       "    </tr>\n",
       "  </thead>\n",
       "  <tbody>\n",
       "    <tr>\n",
       "      <th>0</th>\n",
       "      <td>2016150002576</td>\n",
       "      <td>09/01/2016 14:02:00</td>\n",
       "      <td>09/01/2016 17:30:00</td>\n",
       "      <td>Protecção e Assistência a Pessoas e Bens / Ass...</td>\n",
       "      <td>Encerrada</td>\n",
       "      <td>SETÚBAL</td>\n",
       "      <td>MOITA</td>\n",
       "      <td>Gaio-Rosário e Sarilhos Pequenos</td>\n",
       "      <td>Gaio- Rosario</td>\n",
       "      <td>38.680912</td>\n",
       "      <td>-9.002235</td>\n",
       "      <td>1.0</td>\n",
       "      <td>3.0</td>\n",
       "      <td>0.0</td>\n",
       "      <td>0.0</td>\n",
       "    </tr>\n",
       "    <tr>\n",
       "      <th>1</th>\n",
       "      <td>2016010098470</td>\n",
       "      <td>10/01/2016 00:30:00</td>\n",
       "      <td>NaN</td>\n",
       "      <td>Protecção e Assistência a Pessoas e Bens / Ass...</td>\n",
       "      <td>Em Curso</td>\n",
       "      <td>AVEIRO</td>\n",
       "      <td>ALBERGARIA-A-VELHA</td>\n",
       "      <td>Albergaria-a-Velha e Valmaior</td>\n",
       "      <td>Rua 25 de Abril - Assilhó - Albergaria-a-Velha</td>\n",
       "      <td>40.692785</td>\n",
       "      <td>-8.479687</td>\n",
       "      <td>0.0</td>\n",
       "      <td>0.0</td>\n",
       "      <td>0.0</td>\n",
       "      <td>0.0</td>\n",
       "    </tr>\n",
       "    <tr>\n",
       "      <th>2</th>\n",
       "      <td>2016020002249</td>\n",
       "      <td>24/01/2016 18:57:00</td>\n",
       "      <td>24/01/2016 19:53:00</td>\n",
       "      <td>Protecção e Assistência a Pessoas e Bens / Ass...</td>\n",
       "      <td>Encerrada</td>\n",
       "      <td>BEJA</td>\n",
       "      <td>CASTRO VERDE</td>\n",
       "      <td>Castro Verde e Casével</td>\n",
       "      <td>CASTRO VERDE-Rua Bento J. Carraça,6</td>\n",
       "      <td>37.712790</td>\n",
       "      <td>-8.091108</td>\n",
       "      <td>2.0</td>\n",
       "      <td>4.0</td>\n",
       "      <td>0.0</td>\n",
       "      <td>0.0</td>\n",
       "    </tr>\n",
       "  </tbody>\n",
       "</table>\n",
       "</div>"
      ],
      "text/plain": [
       "          Numero       DataOcorrencia DataFechoOperacional   \n",
       "0  2016150002576  09/01/2016 14:02:00  09/01/2016 17:30:00  \\\n",
       "1  2016010098470  10/01/2016 00:30:00                  NaN   \n",
       "2  2016020002249  24/01/2016 18:57:00  24/01/2016 19:53:00   \n",
       "\n",
       "                                            Natureza EstadoOcorrencia   \n",
       "0  Protecção e Assistência a Pessoas e Bens / Ass...        Encerrada  \\\n",
       "1  Protecção e Assistência a Pessoas e Bens / Ass...         Em Curso   \n",
       "2  Protecção e Assistência a Pessoas e Bens / Ass...        Encerrada   \n",
       "\n",
       "  Distrito            Concelho                         Freguesia   \n",
       "0  SETÚBAL               MOITA  Gaio-Rosário e Sarilhos Pequenos  \\\n",
       "1   AVEIRO  ALBERGARIA-A-VELHA     Albergaria-a-Velha e Valmaior   \n",
       "2     BEJA        CASTRO VERDE            Castro Verde e Casével   \n",
       "\n",
       "                                       Localidade   Latitude  Longitude   \n",
       "0                                   Gaio- Rosario  38.680912  -9.002235  \\\n",
       "1  Rua 25 de Abril - Assilhó - Albergaria-a-Velha  40.692785  -8.479687   \n",
       "2             CASTRO VERDE-Rua Bento J. Carraça,6  37.712790  -8.091108   \n",
       "\n",
       "   NumeroMeiosTerrestresEnvolvidos  NumeroOperacionaisTerrestresEnvolvidos   \n",
       "0                              1.0                                     3.0  \\\n",
       "1                              0.0                                     0.0   \n",
       "2                              2.0                                     4.0   \n",
       "\n",
       "   NumeroMeiosAereosEnvolvidos  NumeroOperacionaisAereosEnvolvidos  \n",
       "0                          0.0                                 0.0  \n",
       "1                          0.0                                 0.0  \n",
       "2                          0.0                                 0.0  "
      ]
     },
     "execution_count": 4,
     "metadata": {},
     "output_type": "execute_result"
    }
   ],
   "source": [
    "# We can use the .head() method to check the first n lines of the database\n",
    "ocorrencias.head(3)"
   ]
  },
  {
   "cell_type": "code",
   "execution_count": 5,
   "metadata": {
    "ExecuteTime": {
     "end_time": "2023-04-22T12:40:26.037212Z",
     "start_time": "2023-04-22T12:40:25.945748Z"
    },
    "colab": {
     "base_uri": "https://localhost:8080/"
    },
    "executionInfo": {
     "elapsed": 20,
     "status": "ok",
     "timestamp": 1682157006403,
     "user": {
      "displayName": "Francisco Ribeiro",
      "userId": "11960040655366096740"
     },
     "user_tz": -60
    },
    "id": "xCm8cPUkV1fy",
    "outputId": "67dd6513-7575-4107-839d-440d3885767b"
   },
   "outputs": [
    {
     "data": {
      "text/plain": [
       "Natureza\n",
       "Protecção e Assistência a Pessoas e Bens / Assistência em Saúde / Trauma                                                                 52306\n",
       "Protecção e Assistência a Pessoas e Bens / Assistência e Prevenção a actividades humanas / Patrulhamento, Reconhecimento e Vigilância     6850\n",
       "Protecção e Assistência a Pessoas e Bens / Assistência e Prevenção a actividades humanas / Prevenção a actividades de lazer               6734\n",
       "Riscos Mistos / Incêndios Rurais / Mato                                                                                                   6129\n",
       "Protecção e Assistência a Pessoas e Bens / Assistência em Saúde / Intoxicação                                                             5724\n",
       "                                                                                                                                         ...  \n",
       "Riscos Tecnológicos / Incêndios Urbanos ou em Área Urbanizável / Museus e Galerias de Arte                                                   1\n",
       "Riscos Tecnológicos / Incêndios em Transportes / Aquático                                                                                    1\n",
       "1                                                                                                                                            1\n",
       "Riscos Tecnológicos / Incêndios em Transportes / Ferroviário                                                                                 1\n",
       "Riscos Mistos / Comprometimento total ou parcial de segurança, serviços ou estruturas / Corte de abastecimento de gás                        1\n",
       "Name: count, Length: 92, dtype: int64"
      ]
     },
     "execution_count": 5,
     "metadata": {},
     "output_type": "execute_result"
    }
   ],
   "source": [
    "ocorrencias['Natureza'].value_counts()"
   ]
  },
  {
   "cell_type": "code",
   "execution_count": 9,
   "metadata": {
    "executionInfo": {
     "elapsed": 31505,
     "status": "ok",
     "timestamp": 1682157037891,
     "user": {
      "displayName": "Francisco Ribeiro",
      "userId": "11960040655366096740"
     },
     "user_tz": -60
    },
    "id": "YR9lqu0W-1E2"
   },
   "outputs": [
    {
     "ename": "ValueError",
     "evalue": "time data \"39,5983240486353\" doesn't match format \"%d/%m/%Y %H:%M:%S\", at position 83938. You might want to try:\n    - passing `format` if your strings have a consistent format;\n    - passing `format='ISO8601'` if your strings are all ISO8601 but not necessarily in exactly the same format;\n    - passing `format='mixed'`, and the format will be inferred for each element individually. You might want to use `dayfirst` alongside this.",
     "output_type": "error",
     "traceback": [
      "\u001B[0;31m---------------------------------------------------------------------------\u001B[0m",
      "\u001B[0;31mValueError\u001B[0m                                Traceback (most recent call last)",
      "Cell \u001B[0;32mIn[9], line 2\u001B[0m\n\u001B[1;32m      1\u001B[0m \u001B[38;5;66;03m# Check the dates of the occurrences\u001B[39;00m\n\u001B[0;32m----> 2\u001B[0m ocorrencias[\u001B[38;5;124m'\u001B[39m\u001B[38;5;124mDiaOcorrencia\u001B[39m\u001B[38;5;124m'\u001B[39m] \u001B[38;5;241m=\u001B[39m \u001B[43mpd\u001B[49m\u001B[38;5;241;43m.\u001B[39;49m\u001B[43mto_datetime\u001B[49m\u001B[43m(\u001B[49m\u001B[43mocorrencias\u001B[49m\u001B[43m[\u001B[49m\u001B[38;5;124;43m'\u001B[39;49m\u001B[38;5;124;43mDataOcorrencia\u001B[39;49m\u001B[38;5;124;43m'\u001B[39;49m\u001B[43m]\u001B[49m\u001B[43m,\u001B[49m\u001B[43m \u001B[49m\u001B[38;5;28;43mformat\u001B[39;49m\u001B[38;5;241;43m=\u001B[39;49m\u001B[38;5;124;43m\"\u001B[39;49m\u001B[38;5;132;43;01m%d\u001B[39;49;00m\u001B[38;5;124;43m/\u001B[39;49m\u001B[38;5;124;43m%\u001B[39;49m\u001B[38;5;124;43mm/\u001B[39;49m\u001B[38;5;124;43m%\u001B[39;49m\u001B[38;5;124;43mY \u001B[39;49m\u001B[38;5;124;43m%\u001B[39;49m\u001B[38;5;124;43mH:\u001B[39;49m\u001B[38;5;124;43m%\u001B[39;49m\u001B[38;5;124;43mM:\u001B[39;49m\u001B[38;5;124;43m%\u001B[39;49m\u001B[38;5;124;43mS\u001B[39;49m\u001B[38;5;124;43m\"\u001B[39;49m\u001B[43m)\u001B[49m\u001B[38;5;241m.\u001B[39mdt\u001B[38;5;241m.\u001B[39mdate\n\u001B[1;32m      3\u001B[0m ocorrencias[\u001B[38;5;124m'\u001B[39m\u001B[38;5;124mDiaOcorrencia\u001B[39m\u001B[38;5;124m'\u001B[39m] \u001B[38;5;241m=\u001B[39m ocorrencias[\u001B[38;5;124m'\u001B[39m\u001B[38;5;124mDiaOcorrencia\u001B[39m\u001B[38;5;124m'\u001B[39m]\u001B[38;5;241m.\u001B[39mastype(\u001B[38;5;28mstr\u001B[39m)\n",
      "File \u001B[0;32m~/repos/datattack_feup/venv/lib/python3.10/site-packages/pandas/core/tools/datetimes.py:1050\u001B[0m, in \u001B[0;36mto_datetime\u001B[0;34m(arg, errors, dayfirst, yearfirst, utc, format, exact, unit, infer_datetime_format, origin, cache)\u001B[0m\n\u001B[1;32m   1048\u001B[0m         result \u001B[38;5;241m=\u001B[39m arg\u001B[38;5;241m.\u001B[39mmap(cache_array)\n\u001B[1;32m   1049\u001B[0m     \u001B[38;5;28;01melse\u001B[39;00m:\n\u001B[0;32m-> 1050\u001B[0m         values \u001B[38;5;241m=\u001B[39m \u001B[43mconvert_listlike\u001B[49m\u001B[43m(\u001B[49m\u001B[43marg\u001B[49m\u001B[38;5;241;43m.\u001B[39;49m\u001B[43m_values\u001B[49m\u001B[43m,\u001B[49m\u001B[43m \u001B[49m\u001B[38;5;28;43mformat\u001B[39;49m\u001B[43m)\u001B[49m\n\u001B[1;32m   1051\u001B[0m         result \u001B[38;5;241m=\u001B[39m arg\u001B[38;5;241m.\u001B[39m_constructor(values, index\u001B[38;5;241m=\u001B[39marg\u001B[38;5;241m.\u001B[39mindex, name\u001B[38;5;241m=\u001B[39marg\u001B[38;5;241m.\u001B[39mname)\n\u001B[1;32m   1052\u001B[0m \u001B[38;5;28;01melif\u001B[39;00m \u001B[38;5;28misinstance\u001B[39m(arg, (ABCDataFrame, abc\u001B[38;5;241m.\u001B[39mMutableMapping)):\n",
      "File \u001B[0;32m~/repos/datattack_feup/venv/lib/python3.10/site-packages/pandas/core/tools/datetimes.py:453\u001B[0m, in \u001B[0;36m_convert_listlike_datetimes\u001B[0;34m(arg, format, name, utc, unit, errors, dayfirst, yearfirst, exact)\u001B[0m\n\u001B[1;32m    451\u001B[0m \u001B[38;5;66;03m# `format` could be inferred, or user didn't ask for mixed-format parsing.\u001B[39;00m\n\u001B[1;32m    452\u001B[0m \u001B[38;5;28;01mif\u001B[39;00m \u001B[38;5;28mformat\u001B[39m \u001B[38;5;129;01mis\u001B[39;00m \u001B[38;5;129;01mnot\u001B[39;00m \u001B[38;5;28;01mNone\u001B[39;00m \u001B[38;5;129;01mand\u001B[39;00m \u001B[38;5;28mformat\u001B[39m \u001B[38;5;241m!=\u001B[39m \u001B[38;5;124m\"\u001B[39m\u001B[38;5;124mmixed\u001B[39m\u001B[38;5;124m\"\u001B[39m:\n\u001B[0;32m--> 453\u001B[0m     \u001B[38;5;28;01mreturn\u001B[39;00m \u001B[43m_array_strptime_with_fallback\u001B[49m\u001B[43m(\u001B[49m\u001B[43marg\u001B[49m\u001B[43m,\u001B[49m\u001B[43m \u001B[49m\u001B[43mname\u001B[49m\u001B[43m,\u001B[49m\u001B[43m \u001B[49m\u001B[43mutc\u001B[49m\u001B[43m,\u001B[49m\u001B[43m \u001B[49m\u001B[38;5;28;43mformat\u001B[39;49m\u001B[43m,\u001B[49m\u001B[43m \u001B[49m\u001B[43mexact\u001B[49m\u001B[43m,\u001B[49m\u001B[43m \u001B[49m\u001B[43merrors\u001B[49m\u001B[43m)\u001B[49m\n\u001B[1;32m    455\u001B[0m result, tz_parsed \u001B[38;5;241m=\u001B[39m objects_to_datetime64ns(\n\u001B[1;32m    456\u001B[0m     arg,\n\u001B[1;32m    457\u001B[0m     dayfirst\u001B[38;5;241m=\u001B[39mdayfirst,\n\u001B[0;32m   (...)\u001B[0m\n\u001B[1;32m    461\u001B[0m     allow_object\u001B[38;5;241m=\u001B[39m\u001B[38;5;28;01mTrue\u001B[39;00m,\n\u001B[1;32m    462\u001B[0m )\n\u001B[1;32m    464\u001B[0m \u001B[38;5;28;01mif\u001B[39;00m tz_parsed \u001B[38;5;129;01mis\u001B[39;00m \u001B[38;5;129;01mnot\u001B[39;00m \u001B[38;5;28;01mNone\u001B[39;00m:\n\u001B[1;32m    465\u001B[0m     \u001B[38;5;66;03m# We can take a shortcut since the datetime64 numpy array\u001B[39;00m\n\u001B[1;32m    466\u001B[0m     \u001B[38;5;66;03m# is in UTC\u001B[39;00m\n",
      "File \u001B[0;32m~/repos/datattack_feup/venv/lib/python3.10/site-packages/pandas/core/tools/datetimes.py:484\u001B[0m, in \u001B[0;36m_array_strptime_with_fallback\u001B[0;34m(arg, name, utc, fmt, exact, errors)\u001B[0m\n\u001B[1;32m    473\u001B[0m \u001B[38;5;28;01mdef\u001B[39;00m \u001B[38;5;21m_array_strptime_with_fallback\u001B[39m(\n\u001B[1;32m    474\u001B[0m     arg,\n\u001B[1;32m    475\u001B[0m     name,\n\u001B[0;32m   (...)\u001B[0m\n\u001B[1;32m    479\u001B[0m     errors: \u001B[38;5;28mstr\u001B[39m,\n\u001B[1;32m    480\u001B[0m ) \u001B[38;5;241m-\u001B[39m\u001B[38;5;241m>\u001B[39m Index:\n\u001B[1;32m    481\u001B[0m \u001B[38;5;250m    \u001B[39m\u001B[38;5;124;03m\"\"\"\u001B[39;00m\n\u001B[1;32m    482\u001B[0m \u001B[38;5;124;03m    Call array_strptime, with fallback behavior depending on 'errors'.\u001B[39;00m\n\u001B[1;32m    483\u001B[0m \u001B[38;5;124;03m    \"\"\"\u001B[39;00m\n\u001B[0;32m--> 484\u001B[0m     result, timezones \u001B[38;5;241m=\u001B[39m \u001B[43marray_strptime\u001B[49m\u001B[43m(\u001B[49m\u001B[43marg\u001B[49m\u001B[43m,\u001B[49m\u001B[43m \u001B[49m\u001B[43mfmt\u001B[49m\u001B[43m,\u001B[49m\u001B[43m \u001B[49m\u001B[43mexact\u001B[49m\u001B[38;5;241;43m=\u001B[39;49m\u001B[43mexact\u001B[49m\u001B[43m,\u001B[49m\u001B[43m \u001B[49m\u001B[43merrors\u001B[49m\u001B[38;5;241;43m=\u001B[39;49m\u001B[43merrors\u001B[49m\u001B[43m,\u001B[49m\u001B[43m \u001B[49m\u001B[43mutc\u001B[49m\u001B[38;5;241;43m=\u001B[39;49m\u001B[43mutc\u001B[49m\u001B[43m)\u001B[49m\n\u001B[1;32m    485\u001B[0m     \u001B[38;5;28;01mif\u001B[39;00m \u001B[38;5;28many\u001B[39m(tz \u001B[38;5;129;01mis\u001B[39;00m \u001B[38;5;129;01mnot\u001B[39;00m \u001B[38;5;28;01mNone\u001B[39;00m \u001B[38;5;28;01mfor\u001B[39;00m tz \u001B[38;5;129;01min\u001B[39;00m timezones):\n\u001B[1;32m    486\u001B[0m         \u001B[38;5;28;01mreturn\u001B[39;00m _return_parsed_timezone_results(result, timezones, utc, name)\n",
      "File \u001B[0;32m~/repos/datattack_feup/venv/lib/python3.10/site-packages/pandas/_libs/tslibs/strptime.pyx:530\u001B[0m, in \u001B[0;36mpandas._libs.tslibs.strptime.array_strptime\u001B[0;34m()\u001B[0m\n",
      "File \u001B[0;32m~/repos/datattack_feup/venv/lib/python3.10/site-packages/pandas/_libs/tslibs/strptime.pyx:351\u001B[0m, in \u001B[0;36mpandas._libs.tslibs.strptime.array_strptime\u001B[0;34m()\u001B[0m\n",
      "\u001B[0;31mValueError\u001B[0m: time data \"39,5983240486353\" doesn't match format \"%d/%m/%Y %H:%M:%S\", at position 83938. You might want to try:\n    - passing `format` if your strings have a consistent format;\n    - passing `format='ISO8601'` if your strings are all ISO8601 but not necessarily in exactly the same format;\n    - passing `format='mixed'`, and the format will be inferred for each element individually. You might want to use `dayfirst` alongside this."
     ]
    }
   ],
   "source": [
    "# Check the dates of the occurrences\n",
    "ocorrencias['DiaOcorrencia'] = pd.to_datetime(ocorrencias['DataOcorrencia'], format=\"%d/%m/%Y %H:%M:%S\").dt.date\n",
    "ocorrencias['DiaOcorrencia'] = ocorrencias['DiaOcorrencia'].astype(str)"
   ]
  },
  {
   "cell_type": "code",
   "execution_count": 7,
   "metadata": {
    "colab": {
     "base_uri": "https://localhost:8080/"
    },
    "executionInfo": {
     "elapsed": 27,
     "status": "ok",
     "timestamp": 1682157037893,
     "user": {
      "displayName": "Francisco Ribeiro",
      "userId": "11960040655366096740"
     },
     "user_tz": -60
    },
    "id": "1Rn-rIhk_oP_",
    "outputId": "64444865-9a6c-411b-ab4a-18d25b102a07"
   },
   "outputs": [
    {
     "ename": "KeyError",
     "evalue": "'DiaOcorrencia'",
     "output_type": "error",
     "traceback": [
      "\u001B[0;31m---------------------------------------------------------------------------\u001B[0m",
      "\u001B[0;31mKeyError\u001B[0m                                  Traceback (most recent call last)",
      "File \u001B[0;32m~/repos/datattack_feup/venv/lib/python3.10/site-packages/pandas/core/indexes/base.py:3652\u001B[0m, in \u001B[0;36mIndex.get_loc\u001B[0;34m(self, key)\u001B[0m\n\u001B[1;32m   3651\u001B[0m \u001B[38;5;28;01mtry\u001B[39;00m:\n\u001B[0;32m-> 3652\u001B[0m     \u001B[38;5;28;01mreturn\u001B[39;00m \u001B[38;5;28;43mself\u001B[39;49m\u001B[38;5;241;43m.\u001B[39;49m\u001B[43m_engine\u001B[49m\u001B[38;5;241;43m.\u001B[39;49m\u001B[43mget_loc\u001B[49m\u001B[43m(\u001B[49m\u001B[43mcasted_key\u001B[49m\u001B[43m)\u001B[49m\n\u001B[1;32m   3653\u001B[0m \u001B[38;5;28;01mexcept\u001B[39;00m \u001B[38;5;167;01mKeyError\u001B[39;00m \u001B[38;5;28;01mas\u001B[39;00m err:\n",
      "File \u001B[0;32m~/repos/datattack_feup/venv/lib/python3.10/site-packages/pandas/_libs/index.pyx:147\u001B[0m, in \u001B[0;36mpandas._libs.index.IndexEngine.get_loc\u001B[0;34m()\u001B[0m\n",
      "File \u001B[0;32m~/repos/datattack_feup/venv/lib/python3.10/site-packages/pandas/_libs/index.pyx:176\u001B[0m, in \u001B[0;36mpandas._libs.index.IndexEngine.get_loc\u001B[0;34m()\u001B[0m\n",
      "File \u001B[0;32mpandas/_libs/hashtable_class_helper.pxi:7080\u001B[0m, in \u001B[0;36mpandas._libs.hashtable.PyObjectHashTable.get_item\u001B[0;34m()\u001B[0m\n",
      "File \u001B[0;32mpandas/_libs/hashtable_class_helper.pxi:7088\u001B[0m, in \u001B[0;36mpandas._libs.hashtable.PyObjectHashTable.get_item\u001B[0;34m()\u001B[0m\n",
      "\u001B[0;31mKeyError\u001B[0m: 'DiaOcorrencia'",
      "\nThe above exception was the direct cause of the following exception:\n",
      "\u001B[0;31mKeyError\u001B[0m                                  Traceback (most recent call last)",
      "Cell \u001B[0;32mIn[7], line 2\u001B[0m\n\u001B[1;32m      1\u001B[0m \u001B[38;5;66;03m# Ocurrences per day\u001B[39;00m\n\u001B[0;32m----> 2\u001B[0m \u001B[43mocorrencias\u001B[49m\u001B[43m[\u001B[49m\u001B[38;5;124;43m'\u001B[39;49m\u001B[38;5;124;43mDiaOcorrencia\u001B[39;49m\u001B[38;5;124;43m'\u001B[39;49m\u001B[43m]\u001B[49m\u001B[38;5;241m.\u001B[39mvalue_counts()\n",
      "File \u001B[0;32m~/repos/datattack_feup/venv/lib/python3.10/site-packages/pandas/core/frame.py:3760\u001B[0m, in \u001B[0;36mDataFrame.__getitem__\u001B[0;34m(self, key)\u001B[0m\n\u001B[1;32m   3758\u001B[0m \u001B[38;5;28;01mif\u001B[39;00m \u001B[38;5;28mself\u001B[39m\u001B[38;5;241m.\u001B[39mcolumns\u001B[38;5;241m.\u001B[39mnlevels \u001B[38;5;241m>\u001B[39m \u001B[38;5;241m1\u001B[39m:\n\u001B[1;32m   3759\u001B[0m     \u001B[38;5;28;01mreturn\u001B[39;00m \u001B[38;5;28mself\u001B[39m\u001B[38;5;241m.\u001B[39m_getitem_multilevel(key)\n\u001B[0;32m-> 3760\u001B[0m indexer \u001B[38;5;241m=\u001B[39m \u001B[38;5;28;43mself\u001B[39;49m\u001B[38;5;241;43m.\u001B[39;49m\u001B[43mcolumns\u001B[49m\u001B[38;5;241;43m.\u001B[39;49m\u001B[43mget_loc\u001B[49m\u001B[43m(\u001B[49m\u001B[43mkey\u001B[49m\u001B[43m)\u001B[49m\n\u001B[1;32m   3761\u001B[0m \u001B[38;5;28;01mif\u001B[39;00m is_integer(indexer):\n\u001B[1;32m   3762\u001B[0m     indexer \u001B[38;5;241m=\u001B[39m [indexer]\n",
      "File \u001B[0;32m~/repos/datattack_feup/venv/lib/python3.10/site-packages/pandas/core/indexes/base.py:3654\u001B[0m, in \u001B[0;36mIndex.get_loc\u001B[0;34m(self, key)\u001B[0m\n\u001B[1;32m   3652\u001B[0m     \u001B[38;5;28;01mreturn\u001B[39;00m \u001B[38;5;28mself\u001B[39m\u001B[38;5;241m.\u001B[39m_engine\u001B[38;5;241m.\u001B[39mget_loc(casted_key)\n\u001B[1;32m   3653\u001B[0m \u001B[38;5;28;01mexcept\u001B[39;00m \u001B[38;5;167;01mKeyError\u001B[39;00m \u001B[38;5;28;01mas\u001B[39;00m err:\n\u001B[0;32m-> 3654\u001B[0m     \u001B[38;5;28;01mraise\u001B[39;00m \u001B[38;5;167;01mKeyError\u001B[39;00m(key) \u001B[38;5;28;01mfrom\u001B[39;00m \u001B[38;5;21;01merr\u001B[39;00m\n\u001B[1;32m   3655\u001B[0m \u001B[38;5;28;01mexcept\u001B[39;00m \u001B[38;5;167;01mTypeError\u001B[39;00m:\n\u001B[1;32m   3656\u001B[0m     \u001B[38;5;66;03m# If we have a listlike key, _check_indexing_error will raise\u001B[39;00m\n\u001B[1;32m   3657\u001B[0m     \u001B[38;5;66;03m#  InvalidIndexError. Otherwise we fall through and re-raise\u001B[39;00m\n\u001B[1;32m   3658\u001B[0m     \u001B[38;5;66;03m#  the TypeError.\u001B[39;00m\n\u001B[1;32m   3659\u001B[0m     \u001B[38;5;28mself\u001B[39m\u001B[38;5;241m.\u001B[39m_check_indexing_error(key)\n",
      "\u001B[0;31mKeyError\u001B[0m: 'DiaOcorrencia'"
     ]
    }
   ],
   "source": [
    "# Ocurrences per day\n",
    "ocorrencias['DiaOcorrencia'].value_counts()"
   ]
  },
  {
   "cell_type": "code",
   "execution_count": 8,
   "metadata": {
    "colab": {
     "base_uri": "https://localhost:8080/",
     "height": 1000
    },
    "executionInfo": {
     "elapsed": 21,
     "status": "ok",
     "timestamp": 1682157037894,
     "user": {
      "displayName": "Francisco Ribeiro",
      "userId": "11960040655366096740"
     },
     "user_tz": -60
    },
    "id": "9PWbsP7z3SqZ",
    "outputId": "b0383e5f-e79e-4695-c22c-5c17606a23b9"
   },
   "outputs": [
    {
     "ename": "KeyError",
     "evalue": "'DiaOcorrencia'",
     "output_type": "error",
     "traceback": [
      "\u001B[0;31m---------------------------------------------------------------------------\u001B[0m",
      "\u001B[0;31mKeyError\u001B[0m                                  Traceback (most recent call last)",
      "File \u001B[0;32m~/repos/datattack_feup/venv/lib/python3.10/site-packages/pandas/core/indexes/base.py:3652\u001B[0m, in \u001B[0;36mIndex.get_loc\u001B[0;34m(self, key)\u001B[0m\n\u001B[1;32m   3651\u001B[0m \u001B[38;5;28;01mtry\u001B[39;00m:\n\u001B[0;32m-> 3652\u001B[0m     \u001B[38;5;28;01mreturn\u001B[39;00m \u001B[38;5;28;43mself\u001B[39;49m\u001B[38;5;241;43m.\u001B[39;49m\u001B[43m_engine\u001B[49m\u001B[38;5;241;43m.\u001B[39;49m\u001B[43mget_loc\u001B[49m\u001B[43m(\u001B[49m\u001B[43mcasted_key\u001B[49m\u001B[43m)\u001B[49m\n\u001B[1;32m   3653\u001B[0m \u001B[38;5;28;01mexcept\u001B[39;00m \u001B[38;5;167;01mKeyError\u001B[39;00m \u001B[38;5;28;01mas\u001B[39;00m err:\n",
      "File \u001B[0;32m~/repos/datattack_feup/venv/lib/python3.10/site-packages/pandas/_libs/index.pyx:147\u001B[0m, in \u001B[0;36mpandas._libs.index.IndexEngine.get_loc\u001B[0;34m()\u001B[0m\n",
      "File \u001B[0;32m~/repos/datattack_feup/venv/lib/python3.10/site-packages/pandas/_libs/index.pyx:176\u001B[0m, in \u001B[0;36mpandas._libs.index.IndexEngine.get_loc\u001B[0;34m()\u001B[0m\n",
      "File \u001B[0;32mpandas/_libs/hashtable_class_helper.pxi:7080\u001B[0m, in \u001B[0;36mpandas._libs.hashtable.PyObjectHashTable.get_item\u001B[0;34m()\u001B[0m\n",
      "File \u001B[0;32mpandas/_libs/hashtable_class_helper.pxi:7088\u001B[0m, in \u001B[0;36mpandas._libs.hashtable.PyObjectHashTable.get_item\u001B[0;34m()\u001B[0m\n",
      "\u001B[0;31mKeyError\u001B[0m: 'DiaOcorrencia'",
      "\nThe above exception was the direct cause of the following exception:\n",
      "\u001B[0;31mKeyError\u001B[0m                                  Traceback (most recent call last)",
      "Cell \u001B[0;32mIn[8], line 4\u001B[0m\n\u001B[1;32m      1\u001B[0m \u001B[38;5;66;03m# Filter a specific day\u001B[39;00m\n\u001B[1;32m      3\u001B[0m ocorrencias_sample \u001B[38;5;241m=\u001B[39m ocorrencias[\n\u001B[0;32m----> 4\u001B[0m     \u001B[43mocorrencias\u001B[49m\u001B[43m[\u001B[49m\u001B[38;5;124;43m'\u001B[39;49m\u001B[38;5;124;43mDiaOcorrencia\u001B[39;49m\u001B[38;5;124;43m'\u001B[39;49m\u001B[43m]\u001B[49m \u001B[38;5;241m==\u001B[39m \u001B[38;5;124m'\u001B[39m\u001B[38;5;124m2016-08-08\u001B[39m\u001B[38;5;124m'\u001B[39m\n\u001B[1;32m      5\u001B[0m ]\n\u001B[1;32m      7\u001B[0m ocorrencias_sample\n",
      "File \u001B[0;32m~/repos/datattack_feup/venv/lib/python3.10/site-packages/pandas/core/frame.py:3760\u001B[0m, in \u001B[0;36mDataFrame.__getitem__\u001B[0;34m(self, key)\u001B[0m\n\u001B[1;32m   3758\u001B[0m \u001B[38;5;28;01mif\u001B[39;00m \u001B[38;5;28mself\u001B[39m\u001B[38;5;241m.\u001B[39mcolumns\u001B[38;5;241m.\u001B[39mnlevels \u001B[38;5;241m>\u001B[39m \u001B[38;5;241m1\u001B[39m:\n\u001B[1;32m   3759\u001B[0m     \u001B[38;5;28;01mreturn\u001B[39;00m \u001B[38;5;28mself\u001B[39m\u001B[38;5;241m.\u001B[39m_getitem_multilevel(key)\n\u001B[0;32m-> 3760\u001B[0m indexer \u001B[38;5;241m=\u001B[39m \u001B[38;5;28;43mself\u001B[39;49m\u001B[38;5;241;43m.\u001B[39;49m\u001B[43mcolumns\u001B[49m\u001B[38;5;241;43m.\u001B[39;49m\u001B[43mget_loc\u001B[49m\u001B[43m(\u001B[49m\u001B[43mkey\u001B[49m\u001B[43m)\u001B[49m\n\u001B[1;32m   3761\u001B[0m \u001B[38;5;28;01mif\u001B[39;00m is_integer(indexer):\n\u001B[1;32m   3762\u001B[0m     indexer \u001B[38;5;241m=\u001B[39m [indexer]\n",
      "File \u001B[0;32m~/repos/datattack_feup/venv/lib/python3.10/site-packages/pandas/core/indexes/base.py:3654\u001B[0m, in \u001B[0;36mIndex.get_loc\u001B[0;34m(self, key)\u001B[0m\n\u001B[1;32m   3652\u001B[0m     \u001B[38;5;28;01mreturn\u001B[39;00m \u001B[38;5;28mself\u001B[39m\u001B[38;5;241m.\u001B[39m_engine\u001B[38;5;241m.\u001B[39mget_loc(casted_key)\n\u001B[1;32m   3653\u001B[0m \u001B[38;5;28;01mexcept\u001B[39;00m \u001B[38;5;167;01mKeyError\u001B[39;00m \u001B[38;5;28;01mas\u001B[39;00m err:\n\u001B[0;32m-> 3654\u001B[0m     \u001B[38;5;28;01mraise\u001B[39;00m \u001B[38;5;167;01mKeyError\u001B[39;00m(key) \u001B[38;5;28;01mfrom\u001B[39;00m \u001B[38;5;21;01merr\u001B[39;00m\n\u001B[1;32m   3655\u001B[0m \u001B[38;5;28;01mexcept\u001B[39;00m \u001B[38;5;167;01mTypeError\u001B[39;00m:\n\u001B[1;32m   3656\u001B[0m     \u001B[38;5;66;03m# If we have a listlike key, _check_indexing_error will raise\u001B[39;00m\n\u001B[1;32m   3657\u001B[0m     \u001B[38;5;66;03m#  InvalidIndexError. Otherwise we fall through and re-raise\u001B[39;00m\n\u001B[1;32m   3658\u001B[0m     \u001B[38;5;66;03m#  the TypeError.\u001B[39;00m\n\u001B[1;32m   3659\u001B[0m     \u001B[38;5;28mself\u001B[39m\u001B[38;5;241m.\u001B[39m_check_indexing_error(key)\n",
      "\u001B[0;31mKeyError\u001B[0m: 'DiaOcorrencia'"
     ]
    }
   ],
   "source": [
    "# Filter a specific day\n",
    "\n",
    "ocorrencias_sample = ocorrencias[\n",
    "    ocorrencias['DiaOcorrencia'] == '2016-08-08'\n",
    "]\n",
    "\n",
    "ocorrencias_sample"
   ]
  },
  {
   "cell_type": "code",
   "execution_count": null,
   "metadata": {
    "executionInfo": {
     "elapsed": 340,
     "status": "ok",
     "timestamp": 1682157038218,
     "user": {
      "displayName": "Francisco Ribeiro",
      "userId": "11960040655366096740"
     },
     "user_tz": -60
    },
    "id": "ywwy7Cbq_vq2"
   },
   "outputs": [],
   "source": [
    "# Plot occurrences in a map\n",
    "\n",
    "import folium\n",
    "\n",
    "m = folium.Map(location=[39.4, -8.22], zoom_start=8)\n",
    "\n",
    "for i, row in ocorrencias_sample.iterrows():\n",
    "\n",
    "  folium.Marker(\n",
    "      [row['Latitude'], row['Longitude']], tooltip=row['Natureza']\n",
    "  ).add_to(m)\n",
    "\n"
   ]
  },
  {
   "cell_type": "code",
   "execution_count": null,
   "metadata": {
    "colab": {
     "base_uri": "https://localhost:8080/",
     "height": 771
    },
    "executionInfo": {
     "elapsed": 1752,
     "status": "ok",
     "timestamp": 1682157039965,
     "user": {
      "displayName": "Francisco Ribeiro",
      "userId": "11960040655366096740"
     },
     "user_tz": -60
    },
    "id": "c4Daxe2K_AOV",
    "outputId": "95c0357b-7c7f-4824-9258-67f4db44db2e"
   },
   "outputs": [],
   "source": [
    "m"
   ]
  },
  {
   "cell_type": "code",
   "execution_count": null,
   "metadata": {
    "executionInfo": {
     "elapsed": 29,
     "status": "ok",
     "timestamp": 1682157039966,
     "user": {
      "displayName": "Francisco Ribeiro",
      "userId": "11960040655366096740"
     },
     "user_tz": -60
    },
    "id": "GFFiodcDGEo9"
   },
   "outputs": [],
   "source": [
    "ocorrencias_sample_incendios = ocorrencias_sample[ocorrencias_sample.Natureza == 'Riscos Mistos / Incêndios Rurais / Mato']"
   ]
  },
  {
   "cell_type": "code",
   "execution_count": null,
   "metadata": {
    "colab": {
     "base_uri": "https://localhost:8080/",
     "height": 1000
    },
    "executionInfo": {
     "elapsed": 29,
     "status": "ok",
     "timestamp": 1682157039967,
     "user": {
      "displayName": "Francisco Ribeiro",
      "userId": "11960040655366096740"
     },
     "user_tz": -60
    },
    "id": "FzahdK3eGV1S",
    "outputId": "f0408d0f-2fe5-4c22-e406-47370c410ebb"
   },
   "outputs": [],
   "source": [
    "ocorrencias_sample_incendios"
   ]
  },
  {
   "cell_type": "code",
   "execution_count": null,
   "metadata": {
    "colab": {
     "base_uri": "https://localhost:8080/",
     "height": 771
    },
    "executionInfo": {
     "elapsed": 28,
     "status": "ok",
     "timestamp": 1682157039969,
     "user": {
      "displayName": "Francisco Ribeiro",
      "userId": "11960040655366096740"
     },
     "user_tz": -60
    },
    "id": "AfEnky1_GLSa",
    "outputId": "a34df0fc-b7d3-4615-a9d6-87affefc981a"
   },
   "outputs": [],
   "source": [
    "from folium.plugins import HeatMap\n",
    "\n",
    "# Create heatmap of fires\n",
    "\n",
    "m = folium.Map(location=[39.4, -8.22], zoom_start=8)\n",
    "\n",
    "# List comprehension to make out list of lists\n",
    "heat_data = [[row['Latitude'],row['Longitude']] for index, row in ocorrencias_sample_incendios.iterrows()]\n",
    "\n",
    "# Plot it on the map\n",
    "HeatMap(heat_data).add_to(m)\n",
    "\n",
    "m"
   ]
  },
  {
   "cell_type": "code",
   "execution_count": null,
   "metadata": {
    "colab": {
     "base_uri": "https://localhost:8080/",
     "height": 769
    },
    "executionInfo": {
     "elapsed": 1076336,
     "status": "error",
     "timestamp": 1682158670518,
     "user": {
      "displayName": "Francisco Ribeiro",
      "userId": "11960040655366096740"
     },
     "user_tz": -60
    },
    "id": "1QAgf2h3Woxg",
    "outputId": "ec0a6f53-6955-45c7-c0a4-1ccc237ff13b"
   },
   "outputs": [],
   "source": [
    "import matplotlib.pyplot as plt\n",
    "from matplotlib.pyplot import figure\n",
    "\n",
    "fig = figure(figsize=(15, 3), dpi=80)\n",
    "fig.patch.set_facecolor((1.0, 1.0, 1.0))\n",
    "#ocorrencias['NumeroMeiosTerrestresEnvolvidos'] = ocorrencias['NumeroMeiosTerrestresEnvolvidos'].fillna(0)\n",
    "ocorrencias['NumeroMeiosTerrestresEnvolvidos'] = ocorrencias['NumeroMeiosTerrestresEnvolvidos'].astype(str)\n",
    "ocorrencias['DataOcorrencia'] = ocorrencias['DataOcorrencia'].astype(str)\n",
    "print(type(ocorrencias['NumeroMeiosTerrestresEnvolvidos'][1]))\n",
    "print(type(ocorrencias['NumeroMeiosTerrestresEnvolvidos'][1]))\n",
    "plt.plot(ocorrencias['DataOcorrencia'], ocorrencias['NumeroMeiosTerrestresEnvolvidos'], label=\"Meios Terrestres\", color=\"red\")\n",
    "plt.grid(b=None, which='major', axis='y', linestyle='--')\n",
    "plt.xticks(rotation='vertical')\n",
    "plt.legend()\n",
    "plt.show()"
   ]
  }
 ],
 "metadata": {
  "colab": {
   "provenance": []
  },
  "kernelspec": {
   "display_name": "Python 3 (ipykernel)",
   "language": "python",
   "name": "python3"
  },
  "language_info": {
   "codemirror_mode": {
    "name": "ipython",
    "version": 3
   },
   "file_extension": ".py",
   "mimetype": "text/x-python",
   "name": "python",
   "nbconvert_exporter": "python",
   "pygments_lexer": "ipython3",
   "version": "3.10.9"
  }
 },
 "nbformat": 4,
 "nbformat_minor": 1
}
